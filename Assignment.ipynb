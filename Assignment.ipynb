{
 "cells": [
  {
   "cell_type": "markdown",
   "id": "1acd7d28-ad90-48b2-9fe9-96047528e5b4",
   "metadata": {},
   "source": [
    "# My Jupyter Notebook on IBM Watson Studio"
   ]
  },
  {
   "cell_type": "markdown",
   "id": "5c585980-242a-407d-b435-f37ac4c564da",
   "metadata": {},
   "source": [
    "__Diego Del Rio__ \n",
    "Data Scientist"
   ]
  },
  {
   "cell_type": "markdown",
   "id": "5bcb81a7-e333-41c1-84b7-063b261b1da3",
   "metadata": {},
   "source": [
    "*Im interested in data science because I studied a degree that's oriented to data visualization. I want to understand better the data and improve my analytical skills.*"
   ]
  },
  {
   "cell_type": "markdown",
   "id": "d82129d8-29c8-4f8d-a5be-2576c7dd19dd",
   "metadata": {},
   "source": [
    "### My code is going to make you a question and then make a sentence with it.\n"
   ]
  },
  {
   "cell_type": "code",
   "execution_count": 2,
   "id": "94b48b42-66f9-4343-8c81-8fd2e483f6b6",
   "metadata": {},
   "outputs": [
    {
     "name": "stdin",
     "output_type": "stream",
     "text": [
      "What's your name? Diego\n"
     ]
    },
    {
     "name": "stdout",
     "output_type": "stream",
     "text": [
      "His/Her name is Diego\n"
     ]
    }
   ],
   "source": [
    "question = input(\"What's your name?\")\n",
    "answer = \"His/Her name is \" + question\n",
    "print(answer)"
   ]
  },
  {
   "cell_type": "markdown",
   "id": "8b66bf3c-fce4-40c9-b9cc-54cb0dea9779",
   "metadata": {},
   "source": [
    "<a href=\"https://www.linkedin.com/in/ddelriorodriguez/?locale=en_US\">My Profile</a>\n",
    "<hr />\n",
    "<ul>\n",
    "  <li>Data Scientist</li>\n",
    "  <li>Data Engineer</li>\n",
    "  <li>ML Engineer</li>\n",
    "</ul>\n",
    "<hr />\n",
    "<ol type = \"1\">\n",
    "         <li>India</li>\n",
    "         <li>Australia</li>\n",
    "         <li>South Africa</li>\n",
    "         <li>New Zealand</li>\n",
    "         <li>Pakistan</li>\n",
    "         <li>Srilanka</li>\n",
    "         <li>West Indies</li>\n",
    "         <li>Bangladesh</li>\n",
    "      </ol>\n",
    "<hr />\n",
    "\n",
    "| Column1 | Column2 | Column3|\n",
    "| ------- | ------- | ------ |\n",
    "| row1 | row1 | row1 |\n",
    "| row2 | row2 | row2 |\n",
    "| row3 | row3 | row3 |\n"
   ]
  },
  {
   "cell_type": "code",
   "execution_count": null,
   "id": "48f82f9f-e28f-4856-b0a9-48dff381ffad",
   "metadata": {},
   "outputs": [],
   "source": []
  },
  {
   "cell_type": "code",
   "execution_count": null,
   "id": "cd26d9be-60e3-4457-9220-106e306896da",
   "metadata": {},
   "outputs": [],
   "source": []
  }
 ],
 "metadata": {
  "kernelspec": {
   "display_name": "Python 3 (ipykernel)",
   "language": "python",
   "name": "python3"
  },
  "language_info": {
   "codemirror_mode": {
    "name": "ipython",
    "version": 3
   },
   "file_extension": ".py",
   "mimetype": "text/x-python",
   "name": "python",
   "nbconvert_exporter": "python",
   "pygments_lexer": "ipython3",
   "version": "3.9.12"
  }
 },
 "nbformat": 4,
 "nbformat_minor": 5
}
